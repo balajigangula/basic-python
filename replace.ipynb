{
 "cells": [
  {
   "cell_type": "code",
   "execution_count": 1,
   "id": "53f44115-063d-4b1a-98f4-f9d9a9a7f2ba",
   "metadata": {},
   "outputs": [
    {
     "name": "stdout",
     "output_type": "stream",
     "text": [
      "11\n"
     ]
    }
   ],
   "source": [
    "text = \"hello,world\"\n",
    "length = len(text)\n",
    "print(length)\n"
   ]
  },
  {
   "cell_type": "code",
   "execution_count": 3,
   "id": "3796968d-4ec3-49bb-8707-fcec800b97cf",
   "metadata": {},
   "outputs": [
    {
     "name": "stdout",
     "output_type": "stream",
     "text": [
      "dine\n"
     ]
    }
   ],
   "source": [
    "text = \"fine\"\n",
    "new_text = text.replace(\"fine\",\"dine\")\n",
    "print(new_text)"
   ]
  },
  {
   "cell_type": "code",
   "execution_count": null,
   "id": "99ae9a52-eaba-498e-93ef-e39178b82f24",
   "metadata": {},
   "outputs": [],
   "source": []
  }
 ],
 "metadata": {
  "kernelspec": {
   "display_name": "Python [conda env:base] *",
   "language": "python",
   "name": "conda-base-py"
  },
  "language_info": {
   "codemirror_mode": {
    "name": "ipython",
    "version": 3
   },
   "file_extension": ".py",
   "mimetype": "text/x-python",
   "name": "python",
   "nbconvert_exporter": "python",
   "pygments_lexer": "ipython3",
   "version": "3.12.7"
  }
 },
 "nbformat": 4,
 "nbformat_minor": 5
}
